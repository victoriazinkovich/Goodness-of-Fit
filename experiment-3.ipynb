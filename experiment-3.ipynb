{
 "cells": [
  {
   "cell_type": "markdown",
   "id": "ce4a19a5-0347-4b9b-8dbe-0655b4acb864",
   "metadata": {},
   "source": [
    "# CONVERGENCE IN NON-PARAMETRIC DENSITY ESTIMATION"
   ]
  },
  {
   "cell_type": "markdown",
   "id": "feea294a-7fb4-4b5d-b834-49cb7905eff8",
   "metadata": {},
   "source": [
    "**Note:** This notebook is the same as was presented in "main.py". However, when running cells from "main.py" we found incompatibility of versions of some libraries and created this, a separate notebook in the hope that there will be no such problems here.\n"
    "There is an application of the goodness of fit test to measuring quality-of-fit in nonparametric density estim\u0002ation. There are two density models for evaluation: the infinite dimen\u0002sional exponential family and a recent approximation to this model using random Fourie features."
   ]
  },
  {
   "cell_type": "code",
   "execution_count": 1,
   "id": "6790c969-c76d-45bd-93fd-dc035db0c874",
   "metadata": {},
   "outputs": [
    {
     "name": "stdout",
     "output_type": "stream",
     "text": [
      "Could not import BayesOptSearch.\n"
     ]
    },
    {
     "name": "stderr",
     "output_type": "stream",
     "text": [
      "KERNEL_EXP_FAMILY: INFO: 2023-12-22 22:40:27,514: log.<module>(): Global logger initialised with loglevel 20\n"
     ]
    }
   ],
   "source": [
    "%matplotlib inline\n",
    "\n",
    "import os\n",
    "from kernel_exp_family.estimators.lite.gaussian import KernelExpLiteGaussian\n",
    "import numpy as np\n",
    "from stat_test.quadratic_time import GaussianQuadraticTest\n",
    "from tools.tools import store_results\n",
    "\n",
    "import pandas as pd\n",
    "import seaborn as sns\n",
    "from tools.latex_plot_init import plt\n",
    "from matplotlib import markers\n",
    "\n",
    "from kernel_exp_family.estimators.lite.gaussian import KernelExpLiteGaussian\n",
    "import numpy as np\n",
    "from stat_test.quadratic_time import GaussianQuadraticTest\n",
    "from tools.tools import store_results\n",
    "\n",
    "from density_estimation import gaussian"
   ]
  },
  {
   "cell_type": "markdown",
   "id": "85e257a3-5e9f-4a70-852a-df0a4b652ae0",
   "metadata": {},
   "source": [
    "# The infinite dimen\u0002sional exponential family"
   ]
  },
  {
   "cell_type": "markdown",
   "id": "c3ff4706-7f97-4ef3-91ee-259cb3685412",
   "metadata": {},
   "source": [
    "Generation of the samples, conduction of the Quadratic test, wild bootstrap, "
   ]
  },
  {
   "cell_type": "markdown",
   "id": "b765f9bd-6298-4e11-b341-b199f1fd116f",
   "metadata": {},
   "source": [
    "Our implementation of the model assumes the log density to take the form $f(x)$, where $f$ lies in an RKHS induced by a Gaussian kernel with bandwidth 1. We fit the model using $N$ observations drawn from a standard Gaussian, and performed our quad\u0002ratic time test on a separate evaluation dataset of fixed size, $N_{test} = 500$. Our goal was to identify $N$ sufficiently large that the goodness of fit test did not reject the null hypo\u0002thesis (i.e., the model had learned the density sufficiently well, bearning in mind that it is guaranteed to converge for sufficiently large $N$)."
   ]
  },
  {
   "cell_type": "code",
   "execution_count": 2,
   "id": "8f5ee152-1731-40f3-823b-27f741cb475b",
   "metadata": {},
   "outputs": [],
   "source": [
    "def exp_family(D, N_test, num_bootstrap, sigma, lmbda, num_repetitions):\n",
    "\n",
    "    Ns_fit = np.array([5, 10, 25, 50, 75, 100, 250, 500, 750, 1000, 2000, 5000])\n",
    "\n",
    "    \n",
    "    grad = lambda x: est.grad(np.array([x]))[0]\n",
    "    s =  GaussianQuadraticTest(grad)\n",
    "    \n",
    "    result_fname = os.path.splitext(os.path.basename(\"results\"))[0] + \".txt\"\n",
    "\n",
    "    # Getting the data:\n",
    "    for _ in range(num_repetitions):\n",
    "        for N in Ns_fit:\n",
    "            est = KernelExpLiteGaussian(sigma, lmbda, D, N)\n",
    "            X_test = np.random.randn(N_test, D)\n",
    "            \n",
    "            X = np.random.randn(N, D)\n",
    "            est.fit(X)\n",
    "            \n",
    "            U_matrix, stat = s.get_statistic_multiple(X_test[:,0])\n",
    "\n",
    "            # Wild bootstrap:\n",
    "            bootsraped_stats = np.empty(num_bootstrap)\n",
    "            for i in range(num_bootstrap):\n",
    "                W = np.sign(np.random.randn(N_test))\n",
    "                WW = np.outer(W, W)\n",
    "                st = np.mean(U_matrix * WW)\n",
    "                bootsraped_stats[i] = N_test * st\n",
    "            \n",
    "            p_value = np.mean(bootsraped_stats>stat)\n",
    "            #print (N, p_value)\n",
    "\n",
    "            \n",
    "            # Save obtained results into a file\n",
    "            store_results(result_fname,\n",
    "                          D=D,\n",
    "                          N=N,\n",
    "                          N_test=N_test,\n",
    "                          num_bootstrap=num_bootstrap,\n",
    "                          sigma=sigma,\n",
    "                          lmbda=lmbda,\n",
    "                          p_value=p_value\n",
    "                          )\n",
    "\n",
    "\n",
    "exp_family(D = 1, N_test = 500, num_bootstrap = 200, sigma = 1, lmbda = 0.01, num_repetitions = 150)"
   ]
  },
  {
   "cell_type": "markdown",
   "id": "19f2353e-45c8-440b-becd-73f039912cc7",
   "metadata": {},
   "source": [
    "Plotting the figures of the p-values from a toy dataset to reproduce the article. The distribution of the p-values evolve as a function of $N$; this distribution is uniform for $N = 5000$, but at $N = 500$, the null hypothesis would very rarely be rejected."
   ]
  },
  {
   "cell_type": "code",
   "execution_count": 3,
   "id": "432814a4-b983-48b0-b490-69ae5452f92d",
   "metadata": {},
   "outputs": [
    {
     "name": "stderr",
     "output_type": "stream",
     "text": [
      "KERNEL_EXP_FAMILY: INFO: 2023-12-22 22:41:07,858: category.update(): Using categorical units to plot a list of strings that are all parsable as floats or dates. If these strings should be plotted as numbers, cast to the appropriate data type before plotting.\n",
      "KERNEL_EXP_FAMILY: INFO: 2023-12-22 22:41:07,880: category.update(): Using categorical units to plot a list of strings that are all parsable as floats or dates. If these strings should be plotted as numbers, cast to the appropriate data type before plotting.\n"
     ]
    },
    {
     "name": "stdout",
     "output_type": "stream",
     "text": [
      "p_value\n",
      "Average number of trials: 69\n",
      "N\n",
      "50       49\n",
      "100      49\n",
      "500      49\n",
      "1000     45\n",
      "2000    112\n",
      "5000    108\n",
      "dtype: int64\n"
     ]
    },
    {
     "data": {
      "image/png": "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",
      "text/plain": [
       "<Figure size 1600x800 with 1 Axes>"
      ]
     },
     "metadata": {},
     "output_type": "display_data"
    }
   ],
   "source": [
    "fname = \"density_estimation\\increasing_data_fixed_test.txt\"\n",
    "\n",
    "fields = ['p_value']\n",
    "field_plot_names = {'p_value': 'p-value', 'N': r'$N$'}\n",
    "\n",
    "\n",
    "def kwargs_gen(**kwargs):\n",
    "    return kwargs\n",
    "\n",
    "def plot_inf_dim(D, N_test, num_bootstrap, sigma, lmbda):\n",
    "    conditions = kwargs_gen(D=D, N_test=N_test, num_bootstrap=num_bootstrap, sigma=sigma, lmbda=lmbda)\n",
    "\n",
    "    # x-axis of plot\n",
    "    x_field = 'N'\n",
    "    x_field_values = [50, 100, 500, 1000, 2000, 5000]\n",
    "\n",
    "    df = pd.read_csv(fname, index_col=0)\n",
    "\n",
    "    for field in fields:\n",
    "        plt.figure()\n",
    "    \n",
    "        # filter out desired entries\n",
    "        mask = (df[field] == df[field])\n",
    "        for k,v in conditions.items():\n",
    "            mask &= (df[k] == v)\n",
    "        current = df.loc[mask]\n",
    "    \n",
    "        # only use desired values of x_fields\n",
    "        current = current.loc[[True if x in x_field_values else False for x in current[x_field]]]\n",
    "    \n",
    "        # use ints on x-axis\n",
    "        current[x_field] = current[x_field].astype(int)\n",
    "    \n",
    "        sns.set(style=\"darkgrid\")\n",
    "        sns.boxplot(x=x_field, y=field, data=current.sort_values(x_field), hue=x_field, legend=False, \\\n",
    "                    palette=sns.color_palette(\"pastel\", 6), flierprops={\"marker\": \"d\"})\n",
    "\n",
    "        plt.xlabel(field_plot_names[x_field], fontsize=20)\n",
    "        plt.ylabel(field_plot_names[field], fontsize=20)\n",
    "    \n",
    "        plt.tick_params(axis='both', which='major', labelsize=16)\n",
    "\n",
    "        fname_base = os.path.splitext(fname)[0]\n",
    "        plt.savefig(fname_base + \".png\", bbox_inches='tight')\n",
    "        plt.savefig(fname_base + \".eps\", bbox_inches='tight')\n",
    "    \n",
    "        # print info on number of trials\n",
    "        print(field)\n",
    "        print(\"Average number of trials: %d\" % int(np.round(current.groupby(x_field).apply(len).mean())))\n",
    "        print(current.groupby(x_field).apply(len))\n",
    "\n",
    "    \n",
    "    plt.show()\n",
    "\n",
    "\n",
    "plot_inf_dim(D = 1, N_test = 500, num_bootstrap = 200, sigma = 1, lmbda = 0.01)"
   ]
  },
  {
   "cell_type": "markdown",
   "id": "315e6e12-e31c-4b5e-99fe-b5cd66a9c8ad",
   "metadata": {},
   "source": [
    "# Approximation via random Fourier features"
   ]
  },
  {
   "cell_type": "markdown",
   "id": "026a9c36-4fa3-4eba-a820-cebd446ed72f",
   "metadata": {},
   "source": [
    "For that model $f = log(pdf)$, is approximated using a finite dictionary of random Fourier features. The natural question when using this ap\u0002proximation is: “How many random features do it I need?” Using the same test power $N_{test} = 500$ as above, and a large number of available samples $N = 5 · 10^4$."
   ]
  },
  {
   "cell_type": "code",
   "execution_count": 4,
   "id": "52160313-9ed7-4507-97f4-552957ada20c",
   "metadata": {},
   "outputs": [],
   "source": [
    "def four_feat(D, N_test, N_fit, sigma, lmbda, num_bootstrap, num_repetitions):\n",
    "    \n",
    "    ms_fit = np.array([1, 2, 5, 10, 25, 50, 75, 100, 250, 500, 1000, 2000, 5000])\n",
    "\n",
    "    \n",
    "    grad = lambda x: est.grad(np.array([x]))[0]\n",
    "    s =  GaussianQuadraticTest(grad)\n",
    "    \n",
    "    result_fname = os.path.splitext(os.path.basename(\"inc_features\"))[0] + \".txt\"\n",
    "    \n",
    "    for _ in range(num_repetitions):\n",
    "        for m in ms_fit:\n",
    "            est = gaussian.KernelExpFiniteGaussian(sigma, lmbda, m, D)\n",
    "            X_test = np.random.randn(N_test, D)\n",
    "            \n",
    "            X = np.random.randn(N_fit, D)\n",
    "            est.fit(X)\n",
    "            \n",
    "            U_matrix, stat = s.get_statistic_multiple(X_test[:,0])\n",
    "        \n",
    "            bootsraped_stats = np.empty(num_bootstrap)\n",
    "            for i in range(num_bootstrap):\n",
    "                W = np.sign(np.random.randn(N_test))\n",
    "                WW = np.outer(W, W)\n",
    "                st = np.mean(U_matrix * WW)\n",
    "                bootsraped_stats[i] = N_test * st\n",
    "            \n",
    "            p_value = np.mean(bootsraped_stats>stat)\n",
    "            #print (m, p_value)\n",
    "\n",
    "            store_results(result_fname,\n",
    "                          D=D,\n",
    "                          N_fit=N_fit,\n",
    "                          N_test=N_test,\n",
    "                          m=m,\n",
    "                          num_bootstrap=num_bootstrap,\n",
    "                          sigma=sigma,\n",
    "                          lmbda=lmbda,\n",
    "                          p_value=p_value\n",
    "                          )\n",
    "\n",
    "four_feat(D = 1, N_test = 500, N_fit = 50000, sigma = 1, lmbda = 0.01, num_bootstrap = 200, num_repetitions = 150)"
   ]
  },
  {
   "cell_type": "markdown",
   "id": "88655e1c-7f5d-41d7-81ca-4380d89d32d1",
   "metadata": {},
   "source": [
    "The distributions of p-values for an increasing number of random features $m$."
   ]
  },
  {
   "cell_type": "code",
   "execution_count": 5,
   "id": "33ceffb0-a54e-4ec9-a8d2-8cfc64bbc346",
   "metadata": {},
   "outputs": [
    {
     "name": "stderr",
     "output_type": "stream",
     "text": [
      "KERNEL_EXP_FAMILY: INFO: 2023-12-22 22:42:04,896: category.update(): Using categorical units to plot a list of strings that are all parsable as floats or dates. If these strings should be plotted as numbers, cast to the appropriate data type before plotting.\n",
      "KERNEL_EXP_FAMILY: INFO: 2023-12-22 22:42:04,915: category.update(): Using categorical units to plot a list of strings that are all parsable as floats or dates. If these strings should be plotted as numbers, cast to the appropriate data type before plotting.\n"
     ]
    },
    {
     "name": "stdout",
     "output_type": "stream",
     "text": [
      "p_value\n",
      "Average number of trials: 143\n",
      "m\n",
      "5       149\n",
      "10      149\n",
      "50      149\n",
      "100     146\n",
      "500     144\n",
      "1000    121\n",
      "dtype: int64\n"
     ]
    },
    {
     "data": {
      "image/png": "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",
      "text/plain": [
       "<Figure size 1600x800 with 1 Axes>"
      ]
     },
     "metadata": {},
     "output_type": "display_data"
    }
   ],
   "source": [
    "fname = \"density_estimation\\increasing_features_fixed_test.txt\"\n",
    "\n",
    "fields = ['p_value']\n",
    "field_plot_names = {\n",
    "                    'p_value': 'p-value',\n",
    "                    'm': r'$m$'\n",
    "                    }\n",
    "def kwargs_gen(**kwargs):\n",
    "    return kwargs\n",
    "\n",
    "def four_feat_plot(D, N_test, N_fit, num_bootstrap, sigma, lmbda):\n",
    "    conditions = kwargs_gen(D = D, N_test = N_test, N_fit = N_fit, num_bootstrap = num_bootstrap, sigma = sigma, lmbda = lmbda)\n",
    "\n",
    "    # x-axis of plot\n",
    "    x_field = 'm'\n",
    "    #x_field_values = [5, 10, 50, 100, 500, 2000, 5000]\n",
    "    x_field_values = [5, 10, 50, 100, 500, 1000]\n",
    "\n",
    "    df = pd.read_csv(fname, index_col=0)\n",
    "\n",
    "    for field in fields:\n",
    "        plt.figure()\n",
    "    \n",
    "        # filter out desired entries\n",
    "        mask = (df[field] == df[field])\n",
    "        for k, v in conditions.items():\n",
    "            mask &= (df[k] == v)\n",
    "        current = df.loc[mask]\n",
    "    \n",
    "        # only use desired values of x_fields\n",
    "        current = current.loc[[True if x in x_field_values else False for x in current[x_field]]]\n",
    "\n",
    "        # use ints on x-axis\n",
    "        current[x_field] = current[x_field].astype(int)\n",
    "    \n",
    "        sns.set(style=\"darkgrid\")\n",
    "        #sns.set_style(\"whitegrid\")\n",
    "        sns.boxplot(x=x_field, y=field, hue=x_field, data=current.sort_values(x_field), \\\n",
    "                    legend=False, palette=sns.color_palette(\"pastel\", 6), flierprops={\"marker\": \"d\"})\n",
    "    \n",
    "        plt.xlabel(field_plot_names[x_field], fontsize=20)\n",
    "        plt.ylabel(field_plot_names[field], fontsize=20)\n",
    "    \n",
    "        plt.tick_params(axis='both', which='major', labelsize=16)\n",
    "    \n",
    "        plt.tight_layout()\n",
    "\n",
    "        fname_base = os.path.splitext(fname)[0]\n",
    "        plt.savefig(fname_base + \".png\", bbox_inches='tight')\n",
    "        plt.savefig(fname_base + \".eps\", bbox_inches='tight')\n",
    "    \n",
    "        # print info on number of trials\n",
    "        print(field)\n",
    "        print(\"Average number of trials: %d\" % int(np.round(current.groupby(x_field).apply(len).mean())))\n",
    "        print(current.groupby(x_field).apply(len))\n",
    "    \n",
    "    plt.show()\n",
    "\n",
    "\n",
    "four_feat_plot(D = 1, N_test = 500, N_fit = 50000, num_bootstrap = 200, sigma = 1, lmbda = 0.01)"
   ]
  },
  {
   "cell_type": "markdown",
   "id": "fc6654bc-3980-456d-beeb-95d34e6bcaab",
   "metadata": {},
   "source": [
    "From about $m = 50$, the null hypo\u0002thesis would rarely be rejected, given a reasonable choice of test level. It is possible to notice, that the p-values do not have a uniform distribution, even for a large number of random features. This subtle effect is caused by over-smoothing due to the regularisation approach taken in, which would not otherwise have been detected"
   ]
  },
  {
   "cell_type": "markdown",
   "id": "c2096024-02fd-4671-8a35-15b7bb9c1699",
   "metadata": {},
   "source": [
    "## Conclusion"
   ]
  },
  {
   "cell_type": "markdown",
   "id": "3ac4d89a-3191-4aae-a0e0-ebcc0bb22f45",
   "metadata": {},
   "source": [
    "\n",
    "\n",
    "Construction of the RKHS-based Stein discrepancy and associated statistical test\n",
    "\n",
    "Experimental illustrations on synthetic examples:\n",
    "   \tstudent’s t vs normal\n",
    "   \tstatistical model criticism\n",
    "   \tconvergence in nonparametric density estimation."
   ]
  }
 ],
 "metadata": {
  "kernelspec": {
   "display_name": "Python 3 (ipykernel)",
   "language": "python",
   "name": "python3"
  },
  "language_info": {
   "codemirror_mode": {
    "name": "ipython",
    "version": 3
   },
   "file_extension": ".py",
   "mimetype": "text/x-python",
   "name": "python",
   "nbconvert_exporter": "python",
   "pygments_lexer": "ipython3",
   "version": "3.10.11"
  }
 },
 "nbformat": 4,
 "nbformat_minor": 5
}
